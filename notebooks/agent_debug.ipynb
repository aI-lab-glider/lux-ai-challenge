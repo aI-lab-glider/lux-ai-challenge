{
    "cells": [
        {
            "cell_type": "code",
            "execution_count": 2,
            "metadata": {},
            "outputs": [],
            "source": [
                "%load_ext autoreload\n",
                "%autoreload 2"
            ]
        },
        {
            "cell_type": "code",
            "execution_count": 1,
            "metadata": {},
            "outputs": [],
            "source": [
                "import os\n",
                "os.chdir('/home/bohdan/projects/glider/lux-ai')"
            ]
        },
        {
            "cell_type": "code",
            "execution_count": 4,
            "metadata": {},
            "outputs": [
                {
                    "name": "stdout",
                    "output_type": "stream",
                    "text": [
                        "pygame 2.2.0 (SDL 2.0.22, Python 3.9.16)\n",
                        "Hello from the pygame community. https://www.pygame.org/contribute.html\n"
                    ]
                }
            ],
            "source": [
                "from rl_agents.agent import Agent\n",
                "from agents.lux.config import EnvConfig\n",
                "from luxai_s2.env import LuxAI_S2\n",
                "import numpy as np\n",
                "\n",
                "configurations = {'max_episode_length': 1000, 'map_size': 48, 'verbose': 2, 'validate_action_space': True, 'max_transfer_amount': 3000, 'MIN_FACTORIES': 2, 'MAX_FACTORIES': 5, 'CYCLE_LENGTH': 50, 'DAY_LENGTH': 30, 'UNIT_ACTION_QUEUE_SIZE': 20, 'MAX_RUBBLE': 100, 'FACTORY_RUBBLE_AFTER_DESTRUCTION': 50, 'INIT_WATER_METAL_PER_FACTORY': 150, 'INIT_POWER_PER_FACTORY': 1000, 'MIN_LICHEN_TO_SPREAD': 20, 'LICHEN_LOST_WITHOUT_WATER': 1, 'LICHEN_GAINED_WITH_WATER': 1, 'MAX_LICHEN_PER_TILE': 100, 'POWER_PER_CONNECTED_LICHEN_TILE': 1, 'LICHEN_WATERING_COST_FACTOR': 10, 'BIDDING_SYSTEM': True, 'FACTORY_PROCESSING_RATE_WATER': 100, 'ICE_WATER_RATIO': 4, 'FACTORY_PROCESSING_RATE_METAL': 50, 'ORE_METAL_RATIO': 5, 'FACTORY_CHARGE': 50, 'FACTORY_WATER_CONSUMPTION': 1, 'POWER_LOSS_FACTOR': 0.5, 'ROBOTS': {'LIGHT': {'METAL_COST': 10, 'POWER_COST': 50, 'CARGO_SPACE': 100, 'BATTERY_CAPACITY': 150, 'CHARGE': 1, 'INIT_POWER': 50, 'MOVE_COST': 1, 'RUBBLE_MOVEMENT_COST': 0.05, 'DIG_COST': 5, 'DIG_RUBBLE_REMOVED': 2, 'DIG_RESOURCE_GAIN': 2, 'DIG_LICHEN_REMOVED': 10, 'SELF_DESTRUCT_COST': 10, 'RUBBLE_AFTER_DESTRUCTION': 1, 'ACTION_QUEUE_POWER_COST': 1}, 'HEAVY': {'METAL_COST': 100, 'POWER_COST': 500, 'CARGO_SPACE': 1000, 'BATTERY_CAPACITY': 3000, 'CHARGE': 10, 'INIT_POWER': 500, 'MOVE_COST': 20, 'RUBBLE_MOVEMENT_COST': 1, 'DIG_COST': 60, 'DIG_RUBBLE_REMOVED': 20, 'DIG_RESOURCE_GAIN': 20, 'DIG_LICHEN_REMOVED': 100, 'SELF_DESTRUCT_COST': 100, 'RUBBLE_AFTER_DESTRUCTION': 10, 'ACTION_QUEUE_POWER_COST': 10}}}\n",
                "agent = Agent('player_0', configurations)\n",
                "\n",
                "env_config = EnvConfig.from_dict(configurations)"
            ]
        },
        {
            "cell_type": "code",
            "execution_count": 7,
            "metadata": {},
            "outputs": [],
            "source": [
                "def interact(env, agents, steps):\n",
                "    # reset our env\n",
                "    obs = env.reset(seed=41)\n",
                "    np.random.seed(0)\n",
                "    imgs = []\n",
                "    step = 0\n",
                "    # Note that as the environment has two phases, we also keep track a value called \n",
                "    # `real_env_steps` in the environment state. The first phase ends once `real_env_steps` is 0 and used below\n",
                "\n",
                "    # iterate until phase 1 ends\n",
                "    while env.state.real_env_steps < 0:\n",
                "        if step >= steps: break\n",
                "        actions = {}\n",
                "        for player in env.agents:\n",
                "            o = obs[player]\n",
                "            a = agents[player].early_setup(step, o)\n",
                "            actions[player] = a\n",
                "        step += 1\n",
                "        obs, rewards, dones, infos = env.step(actions)\n",
                "        imgs += [env.render(\"rgb_array\", width=640, height=640)]\n",
                "    done = False\n",
                "    while not done:\n",
                "        if step >= steps: break\n",
                "        actions = {}\n",
                "        for player in env.agents:\n",
                "            o = obs[player]\n",
                "            a = agents[player].act(step, o)\n",
                "            actions[player] = a\n",
                "        step += 1\n",
                "        obs, rewards, dones, infos = env.step(actions)\n",
                "        imgs += [env.render(\"rgb_array\", width=640, height=640)]\n",
                "        done = dones[\"player_0\"] and dones[\"player_1\"]"
            ]
        },
        {
            "cell_type": "code",
            "execution_count": 23,
            "metadata": {},
            "outputs": [],
            "source": [
                "env = LuxAI_S2()\n",
                "obs = env.reset(42)\n",
                "agents = {player: Agent(player, env.state.env_cfg) for player in env.agents}\n",
                "interact(env, agents, 1000)"
            ]
        }
    ],
    "metadata": {
        "kernelspec": {
            "display_name": "lux_ai",
            "language": "python",
            "name": "python3"
        },
        "language_info": {
            "codemirror_mode": {
                "name": "ipython",
                "version": 3
            },
            "file_extension": ".py",
            "mimetype": "text/x-python",
            "name": "python",
            "nbconvert_exporter": "python",
            "pygments_lexer": "ipython3",
            "version": "3.9.16"
        },
        "orig_nbformat": 4
    },
    "nbformat": 4,
    "nbformat_minor": 2
}