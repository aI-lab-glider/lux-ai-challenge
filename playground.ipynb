{
 "cells": [
  {
   "cell_type": "code",
   "execution_count": 16,
   "metadata": {},
   "outputs": [],
   "source": [
    "import os\n",
    "os.chdir('/home/bohdan/projects/glider/lux-ai')"
   ]
  },
  {
   "cell_type": "code",
   "execution_count": 1,
   "metadata": {},
   "outputs": [
    {
     "name": "stdout",
     "output_type": "stream",
     "text": [
      "pygame 2.2.0 (SDL 2.0.22, Python 3.9.16)\n",
      "Hello from the pygame community. https://www.pygame.org/contribute.html\n"
     ]
    }
   ],
   "source": [
    "import gym\n",
    "from luxai_s2.env import LuxAI_S2\n",
    "import matplotlib.pyplot as plt\n",
    "import numpy as np\n",
    "import os\n",
    "from lux.kit import obs_to_game_state, GameState, EnvConfig"
   ]
  },
  {
   "cell_type": "code",
   "execution_count": 44,
   "metadata": {},
   "outputs": [],
   "source": [
    "from luxai_s2.utils.utils import my_turn_to_place_factory\n",
    "\n",
    "\n",
    "def interact(env, agents, steps):\n",
    "    obs = env.reset(seed=41)\n",
    "    step = 0\n",
    "    # iterate until phase 1 ends\n",
    "    while env.state.real_env_steps < 0:\n",
    "        if step >= steps: break\n",
    "        actions = {}\n",
    "        for player in env.agents:\n",
    "            o = obs[player]\n",
    "            a = agents[player].early_setup(step, o)\n",
    "            actions[player] = a\n",
    "        step += 1\n",
    "        obs, rewards, dones, infos = env.step(actions)\n",
    "\n",
    "    return obs, rewards, dones, infos\n",
    "\n",
    "\n",
    "class Agent():\n",
    "    def __init__(self, player: str, env_cfg: EnvConfig) -> None:\n",
    "        self.player = player\n",
    "        self.opp_player = \"player_1\" if self.player == \"player_0\" else \"player_0\"\n",
    "        np.random.seed(0)\n",
    "        self.env_cfg: EnvConfig = env_cfg\n",
    "\n",
    "    def early_setup(self, step: int, obs, remainingOverageTime: int = 60):\n",
    "        if step == 0:\n",
    "            # bid 0 to not waste resources bidding and declare as the default faction\n",
    "            # you can bid -n to prefer going second or n to prefer going first in placement\n",
    "            return dict(faction=\"AlphaStrike\", bid=0)\n",
    "        \n",
    "        game_state = obs_to_game_state(step, self.env_cfg, obs)\n",
    "        # factory placement period\n",
    "        \n",
    "        # how much water and metal you have in your starting pool to give to new factories\n",
    "        factories_to_place = game_state.teams[self.player].factories_to_place\n",
    "        # whether it is your turn to place a factory\n",
    "        my_turn_to_place = my_turn_to_place_factory(game_state.teams[self.player].place_first, step)\n",
    "        if factories_to_place > 0 and my_turn_to_place:\n",
    "            # we will spawn our factory in a random location with 150 metal and water if it is our turn to place\n",
    "            potential_spawns = np.array(list(zip(*np.where(obs[\"board\"][\"valid_spawns_mask\"] == 1))))\n",
    "            spawn_loc = potential_spawns[np.random.randint(0, len(potential_spawns))]\n",
    "            return dict(spawn=spawn_loc, metal=150, water=150)\n",
    "        return dict()\n",
    "\n",
    "    def act(self, step: int, obs, remainingOverageTime: int = 60):\n",
    "        actions = dict()\n",
    "        game_state = obs_to_game_state(step, self.env_cfg, obs)\n",
    "        return actions"
   ]
  },
  {
   "cell_type": "code",
   "execution_count": 45,
   "metadata": {},
   "outputs": [],
   "source": [
    "env = LuxAI_S2()\n",
    "obs = env.reset(42)\n"
   ]
  },
  {
   "cell_type": "code",
   "execution_count": 46,
   "metadata": {},
   "outputs": [],
   "source": [
    "game_state = obs_to_game_state(0, env.env_cfg, obs['player_1'])"
   ]
  },
  {
   "cell_type": "code",
   "execution_count": 48,
   "metadata": {},
   "outputs": [],
   "source": [
    "agents = {a: Agent(a, env.state.env_cfg) for a in env.agents}\n",
    "obs, *_ = interact(env, agents, 2)\n"
   ]
  },
  {
   "cell_type": "code",
   "execution_count": 52,
   "metadata": {},
   "outputs": [],
   "source": [
    "p_obs = obs['player_0']\n",
    "p_obs = obs_to_game_state(2, env.env_cfg, p_obs)"
   ]
  },
  {
   "cell_type": "code",
   "execution_count": 53,
   "metadata": {},
   "outputs": [
    {
     "data": {
      "text/plain": [
       "{'player_0': {'factory_0': Factory(team_id=0, unit_id='factory_0', strain_id=0, power=1000, cargo=UnitCargo(ice=0, ore=0, water=150, metal=150), pos=array([18,  4]), env_cfg=EnvConfig(max_episode_length=1000, map_size=48, verbose=1, validate_action_space=True, max_transfer_amount=3000, MIN_FACTORIES=2, MAX_FACTORIES=5, CYCLE_LENGTH=50, DAY_LENGTH=30, UNIT_ACTION_QUEUE_SIZE=20, MAX_RUBBLE=100, FACTORY_RUBBLE_AFTER_DESTRUCTION=50, INIT_WATER_METAL_PER_FACTORY=150, INIT_POWER_PER_FACTORY=1000, MIN_LICHEN_TO_SPREAD=20, LICHEN_LOST_WITHOUT_WATER=1, LICHEN_GAINED_WITH_WATER=1, MAX_LICHEN_PER_TILE=100, POWER_PER_CONNECTED_LICHEN_TILE=1, LICHEN_WATERING_COST_FACTOR=10, BIDDING_SYSTEM=True, FACTORY_PROCESSING_RATE_WATER=100, ICE_WATER_RATIO=4, FACTORY_PROCESSING_RATE_METAL=50, ORE_METAL_RATIO=5, FACTORY_CHARGE=50, FACTORY_WATER_CONSUMPTION=1, POWER_LOSS_FACTOR=0.5, ROBOTS={'LIGHT': UnitConfig(METAL_COST=10, POWER_COST=50, CARGO_SPACE=100, BATTERY_CAPACITY=150, CHARGE=1, INIT_POWER=50, MOVE_COST=1, RUBBLE_MOVEMENT_COST=0.05, DIG_COST=5, DIG_RUBBLE_REMOVED=2, DIG_RESOURCE_GAIN=2, DIG_LICHEN_REMOVED=10, SELF_DESTRUCT_COST=10, RUBBLE_AFTER_DESTRUCTION=1, ACTION_QUEUE_POWER_COST=1), 'HEAVY': UnitConfig(METAL_COST=100, POWER_COST=500, CARGO_SPACE=1000, BATTERY_CAPACITY=3000, CHARGE=10, INIT_POWER=500, MOVE_COST=20, RUBBLE_MOVEMENT_COST=1, DIG_COST=60, DIG_RUBBLE_REMOVED=20, DIG_RESOURCE_GAIN=20, DIG_LICHEN_REMOVED=100, SELF_DESTRUCT_COST=100, RUBBLE_AFTER_DESTRUCTION=10, ACTION_QUEUE_POWER_COST=10)}))},\n",
       " 'player_1': {}}"
      ]
     },
     "execution_count": 53,
     "metadata": {},
     "output_type": "execute_result"
    }
   ],
   "source": [
    "p_obs.factories"
   ]
  }
 ],
 "metadata": {
  "kernelspec": {
   "display_name": "lux_ai",
   "language": "python",
   "name": "python3"
  },
  "language_info": {
   "codemirror_mode": {
    "name": "ipython",
    "version": 3
   },
   "file_extension": ".py",
   "mimetype": "text/x-python",
   "name": "python",
   "nbconvert_exporter": "python",
   "pygments_lexer": "ipython3",
   "version": "3.9.16"
  },
  "orig_nbformat": 4,
  "vscode": {
   "interpreter": {
    "hash": "10ec57859972515a68cd64547cb1631a9daa7546c4df130d6d54458d5f560f64"
   }
  }
 },
 "nbformat": 4,
 "nbformat_minor": 2
}
